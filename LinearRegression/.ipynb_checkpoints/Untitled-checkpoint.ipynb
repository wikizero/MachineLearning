{
 "cells": [
  {
   "cell_type": "code",
   "execution_count": 39,
   "metadata": {},
   "outputs": [
    {
     "data": {
      "text/plain": [
       "[<matplotlib.lines.Line2D at 0x11b0fb4e0>]"
      ]
     },
     "execution_count": 39,
     "metadata": {},
     "output_type": "execute_result"
    },
    {
     "data": {
      "image/png": "[encoded data removed]",
      "text/plain": [
       "<Figure size 432x288 with 1 Axes>"
      ]
     },
     "metadata": {},
     "output_type": "display_data"
    }
   ],
   "source": [
    "# coding:utf-8\n",
    "%matplotlib inline\n",
    "import seaborn as sns\n",
    "from matplotlib import pyplot as plt\n",
    "import pandas as pd\n",
    "from sklearn import linear_model\n",
    "\n",
    "clf = linear_model.LinearRegression()\n",
    "\n",
    "# 简单线性回归\n",
    "# [0, 0], [1, 1], [2, 2], [3, 3], [6, 6]\n",
    "x = [[0], [1], [2], [5], [8]]\n",
    "y = [0, 1, 4, 25, 64]\n",
    "\n",
    "clf.fit(x, y)\n",
    "ret = clf.predict(x)\n",
    "\n",
    "# plt.plot(x, y)  # 线条\n",
    "plt.plot(x, y, 'k.')  # 黑色点数据集\n",
    "plt.plot(x, ret, 'r-.')  # 红色虚线为线性回归算法根据数据集拟合的直线\n",
    "\n",
    "\n",
    "x1 = [[3], [5], [6], [7], [10]]\n",
    "ret1 = clf.predict(x1)\n",
    "plt.plot(x1, ret1, 'b.')  # 蓝色点 \n"
   ]
  },
  {
   "cell_type": "code",
   "execution_count": null,
   "metadata": {},
   "outputs": [],
   "source": []
  }
 ],
 "metadata": {
  "kernelspec": {
   "display_name": "Python 3",
   "language": "python",
   "name": "python3"
  },
  "language_info": {
   "codemirror_mode": {
    "name": "ipython",
    "version": 3
   },
   "file_extension": ".py",
   "mimetype": "text/x-python",
   "name": "python",
   "nbconvert_exporter": "python",
   "pygments_lexer": "ipython3",
   "version": "3.6.3"
  }
 },
 "nbformat": 4,
 "nbformat_minor": 2
}
